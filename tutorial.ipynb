{
 "cells": [
  {
   "cell_type": "code",
   "execution_count": 1,
   "id": "182f1f27-7b3a-4ef7-b7da-9b46a37e25e3",
   "metadata": {},
   "outputs": [],
   "source": [
    "import os\n",
    "import torch\n",
    "from interface import GraphDTA"
   ]
  },
  {
   "cell_type": "code",
   "execution_count": 2,
   "id": "196f6421-9e39-4823-96af-65d14f916110",
   "metadata": {},
   "outputs": [],
   "source": [
    "use_cuda = torch.cuda.is_available()\n",
    "device = torch.device('cuda:0' if use_cuda else \"cpu\")"
   ]
  },
  {
   "cell_type": "code",
   "execution_count": 3,
   "id": "58b660ba-cdcc-4007-bd5b-e3c03769b472",
   "metadata": {},
   "outputs": [],
   "source": [
    "drugs = {\n",
    "    'abt737':'CN(C)CCC(CSC1=CC=CC=C1)NC2=C(C=C(C=C2)S(=O)(=O)NC(=O)C3=CC=C(C=C3)N4CCN(CC4)CC5=CC=CC=C5C6=CC=C(C=C6)Cl)[N+](=O)[O-]',\n",
    "    'navitoclax':'CC1(CCC(=C(C1)CN2CCN(CC2)C3=CC=C(C=C3)C(=O)NS(=O)(=O)C4=CC(=C(C=C4)NC(CCN5CCOCC5)CSC6=CC=CC=C6)S(=O)(=O)C(F)(F)F)C7=CC=C(C=C7)Cl)C',\n",
    "}\n",
    "\n",
    "targets = {\n",
    "    'bcl2':'MAHAGRTGYDNREIVMKYIHYKLSQRGYEWDAGDVGAAPPGAAPAPGIFSSQPGHTPHPAASRDPVARTSPLQTPAAPGAAAGPALSPVPPVVHLTLRQAGDDFSRRYRRDFAEMSSQLHLTPFTARGRFATVVEELFRDGVNWGRIVAFFEFGGVMCVESVNREMSPLVDNIALWMTEYLNRHLHTWIQDNGGWDAFVELYGPSMRPLFDFSWLSLKTLLSLALVGACITLGAYLGHK',\n",
    "    'bclxl':'MSQSNRELVVDFLSYKLSQKGYSWSQFSDVEENRTEAPEGTESEMETPSAINGNPSWHLADSPAVNGATGHSSSLDAREVIPMAAVKQALREAGDEFELRYRRAFSDLTSQLHITPGTAYQSFEQVVNELFRDGVNWGRIVAFFSFGGALCVESVDKEMQVLVSRIAAWMATYLNDHLEPWIQENGGWDTFVELYGNNAAAESRKGQERFNRWFLTGMTVAGVVLLGSLFSRK',\n",
    "    'bclw':'MATPASAPDTRALVADFVGYKLRQKGYVCGAGPGEGPAADPLHQAMRAAGDEFETRFRRTFSDLAAQLHVTPGSAQQRFTQVSDELFQGGPNWGRLVAFFVFGAALCAESVNKEMEPLVGQVQEWMVAYLETQLADWIHSSGGWAEFTALYGDGALEEARRLREGNWASVRTVLTGAVALGALVTVGAFFASK',\n",
    "}"
   ]
  },
  {
   "cell_type": "code",
   "execution_count": 4,
   "id": "16735bd3-8ebe-47cf-a665-a39eead4e51a",
   "metadata": {},
   "outputs": [],
   "source": [
    "pairs = []\n",
    "xd = []\n",
    "xt = []\n",
    "\n",
    "for kd, vd in drugs.items():\n",
    "    for kt, vt in targets.items():\n",
    "        pairs.append((kd,kt))\n",
    "        xd.append(vd)\n",
    "        xt.append(vt)"
   ]
  },
  {
   "cell_type": "code",
   "execution_count": 5,
   "id": "f245509b-e7ad-4640-bd8e-3409187061b3",
   "metadata": {},
   "outputs": [],
   "source": [
    "modeltype = 'GINConvNet'\n",
    "model = GraphDTA(modeltype, device=device).load(f'model_{modeltype}_kiba.model')"
   ]
  },
  {
   "cell_type": "code",
   "execution_count": 6,
   "id": "1de68bf3-216e-4af8-9ef9-89ceedce3bf6",
   "metadata": {},
   "outputs": [
    {
     "data": {
      "text/plain": [
       "array([11.343563, 11.406248, 11.354334, 11.455662, 11.576944, 11.521573],\n",
       "      dtype=float32)"
      ]
     },
     "execution_count": 6,
     "metadata": {},
     "output_type": "execute_result"
    }
   ],
   "source": [
    "model.evaluate(xd, xt)"
   ]
  },
  {
   "cell_type": "code",
   "execution_count": null,
   "id": "5d615a48-946d-4b08-b6ae-98c3fb8853c3",
   "metadata": {},
   "outputs": [],
   "source": []
  }
 ],
 "metadata": {
  "kernelspec": {
   "display_name": "Python 3 (ipykernel)",
   "language": "python",
   "name": "python3"
  },
  "language_info": {
   "codemirror_mode": {
    "name": "ipython",
    "version": 3
   },
   "file_extension": ".py",
   "mimetype": "text/x-python",
   "name": "python",
   "nbconvert_exporter": "python",
   "pygments_lexer": "ipython3",
   "version": "3.8.17"
  }
 },
 "nbformat": 4,
 "nbformat_minor": 5
}
